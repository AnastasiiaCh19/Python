{
  "cells": [
    {
      "cell_type": "markdown",
      "metadata": {
        "id": "-89_Z_je0cfL"
      },
      "source": [
        "# Assignment 4.1\n",
        "\n",
        "> Replace all TODOs with your code.\n",
        ">\n",
        "> Do not change any other code and do not add/remove cells!"
      ]
    },
    {
      "cell_type": "markdown",
      "metadata": {
        "id": "w6E-GxTB0j4M"
      },
      "source": [
        "## Sets"
      ]
    },
    {
      "cell_type": "markdown",
      "metadata": {
        "id": "iEwuf_DP0cfM"
      },
      "source": [
        "### Task 1\n",
        "\n",
        "Create an empty set called 'my_set'."
      ]
    },
    {
      "cell_type": "code",
      "execution_count": 4,
      "metadata": {
        "id": "IWVOCWxx0cfM",
        "tags": [
          "task_1"
        ],
        "colab": {
          "base_uri": "https://localhost:8080/"
        },
        "outputId": "1eb8038a-ff17-48b4-f753-684040c81f8f"
      },
      "outputs": [
        {
          "output_type": "stream",
          "name": "stdout",
          "text": [
            "set()\n"
          ]
        }
      ],
      "source": [
        "my_set = set()\n",
        "\n",
        "print(my_set)  # should print set()"
      ]
    },
    {
      "cell_type": "markdown",
      "metadata": {
        "id": "2z8HqsaK0cfN"
      },
      "source": [
        "### Task 2\n",
        "\n",
        "Let's turn a given sentence into a set of words.\n"
      ]
    },
    {
      "cell_type": "code",
      "execution_count": 14,
      "metadata": {
        "id": "kva_9ycA0cfN",
        "tags": [
          "task_2"
        ],
        "colab": {
          "base_uri": "https://localhost:8080/"
        },
        "outputId": "bbdebdb4-c43a-43e1-a417-2876e624ff37"
      },
      "outputs": [
        {
          "output_type": "stream",
          "name": "stdout",
          "text": [
            "{'abc', 'acd', 'cba'}\n"
          ]
        }
      ],
      "source": [
        "sentence = \"abc cba acd abc\"\n",
        "\n",
        "words = set(sentence.split())\n",
        "\n",
        "print(words)  # should be {'acd', 'cba', 'abc'} or in other order"
      ]
    },
    {
      "cell_type": "markdown",
      "metadata": {
        "id": "IqjW7SGS0cfN"
      },
      "source": [
        "### Task 3\n",
        "\n",
        "Now, let's remove from `words` all the words that are present in `sentence2`."
      ]
    },
    {
      "cell_type": "code",
      "execution_count": 20,
      "metadata": {
        "id": "p83RQvA40cfN",
        "tags": [
          "task_3"
        ],
        "colab": {
          "base_uri": "https://localhost:8080/"
        },
        "outputId": "da041282-10d6-4e45-8857-5c7df016b4c1"
      },
      "outputs": [
        {
          "output_type": "stream",
          "name": "stdout",
          "text": [
            "{'abc', 'acd'}\n"
          ]
        }
      ],
      "source": [
        "sentence2 = 'cba baa acc'\n",
        "\n",
        "sentence2 = set(sentence2.split())\n",
        "words -= sentence2\n",
        "\n",
        "print(words)  # should print {'acd', 'abc'} or {'abc', 'acd'}"
      ]
    },
    {
      "cell_type": "markdown",
      "metadata": {
        "id": "fceBNTpUnip6"
      },
      "source": [
        "### Task 4\n",
        "\n",
        "Let's now play around with statistics and probability!\n",
        "\n",
        "Generate `N` random numbers in the range `[1, N]` and keep track of a percent of unique numbers in the result.\n",
        "Play around with different values of `N`; how does it affect the percentage of unique numbers? How do you think why?"
      ]
    },
    {
      "cell_type": "code",
      "execution_count": 9,
      "metadata": {
        "id": "VsoALrbBnsjs",
        "tags": [
          "task_4"
        ],
        "colab": {
          "base_uri": "https://localhost:8080/"
        },
        "outputId": "8cd670a6-90a0-4f89-f938-5cdb9512e3a3"
      },
      "outputs": [
        {
          "output_type": "stream",
          "name": "stdout",
          "text": [
            "63.218289999999996\n"
          ]
        }
      ],
      "source": [
        "from random import randint\n",
        "\n",
        "N = 10000000\n",
        "\n",
        "random_numbers = [randint(1, N) for i in range(N)]\n",
        "unique_numbers = len(set(random_numbers))\n",
        "percent_unique = (unique_numbers / N) * 100\n",
        "\n",
        "print(percent_unique)\n",
        ""
      ]
    },
    {
      "cell_type": "markdown",
      "metadata": {
        "id": "i97oe-zR9xP_"
      },
      "source": [
        "For math geeks: if you set rather big `N`, you see that the percentage is slowly approaching ~63.21. It is a modification of a [Birthday problem](https://en.wikipedia.org/wiki/Birthday_problem), but a simpler and more relevant explanation is [here](https://math.stackexchange.com/questions/5775/how-many-bins-do-random-numbers-fill).\n"
      ]
    },
    {
      "cell_type": "markdown",
      "metadata": {
        "id": "MJ03abgc9xQA"
      },
      "source": [
        "## Dictionaries"
      ]
    },
    {
      "cell_type": "markdown",
      "metadata": {
        "id": "NYrbhOY19xQA"
      },
      "source": [
        "### Task 5\n",
        "\n",
        "You are given a matrix `m`. Return a distinct list containing all the values that are present in at least `n` rows.\n",
        "\n",
        "Hint: there can be duplicates in rows; perhaps we would want to eliminate them - how?"
      ]
    },
    {
      "cell_type": "code",
      "execution_count": 23,
      "metadata": {
        "id": "tBxoArVb9xQA",
        "colab": {
          "base_uri": "https://localhost:8080/"
        },
        "outputId": "127947f8-b2d7-43b9-86a8-e62cfb15e79f"
      },
      "outputs": [
        {
          "output_type": "stream",
          "name": "stdout",
          "text": [
            "[1, 2, 7]\n"
          ]
        }
      ],
      "source": [
        "m = [\n",
        "    [1, 1, 2, 3],\n",
        "    [1, 2, 6, 7],\n",
        "    [1, 7, 9, 9]\n",
        "]\n",
        "\n",
        "n = 2\n",
        "res = []\n",
        "value_counts = {}\n",
        "\n",
        "for row in m:\n",
        "    unique_values = set(row)\n",
        "    for value in unique_values:\n",
        "        value_counts[value] = value_counts.get(value, 0) + 1\n",
        "\n",
        "res = [value for value, count in value_counts.items() if count >= n]\n",
        "\n",
        "\n",
        "print(res)  # should print [1, 2, 7]"
      ]
    }
  ],
  "metadata": {
    "colab": {
      "provenance": [],
      "toc_visible": true
    },
    "kernelspec": {
      "display_name": "venv",
      "language": "python",
      "name": "python3"
    },
    "language_info": {
      "codemirror_mode": {
        "name": "ipython",
        "version": 3
      },
      "file_extension": ".py",
      "mimetype": "text/x-python",
      "name": "python",
      "nbconvert_exporter": "python",
      "pygments_lexer": "ipython3",
      "version": "3.11.5"
    },
    "orig_nbformat": 4
  },
  "nbformat": 4,
  "nbformat_minor": 0
}